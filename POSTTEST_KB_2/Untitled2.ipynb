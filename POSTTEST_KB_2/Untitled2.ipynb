{
 "cells": [
  {
   "cell_type": "markdown",
   "id": "90637428-70d5-4c4d-8727-47b0b56dcb56",
   "metadata": {},
   "source": [
    "# POSTTEST 2 KB"
   ]
  },
  {
   "cell_type": "markdown",
   "id": "c65f2252-7b67-4459-ac35-8bbe7874e1bf",
   "metadata": {},
   "source": [
    "# Mengimport Library"
   ]
  },
  {
   "cell_type": "code",
   "execution_count": 71,
   "id": "8eba28bb-36bc-479a-9b59-2b7a995bd077",
   "metadata": {},
   "outputs": [],
   "source": [
    "import pandas as pd"
   ]
  },
  {
   "cell_type": "code",
   "execution_count": 72,
   "id": "86f5f816-9d07-41bd-923b-6ce53a76041e",
   "metadata": {},
   "outputs": [],
   "source": [
    "import numpy as np"
   ]
  },
  {
   "cell_type": "markdown",
   "id": "5350cc05-6b6e-4d56-8cb6-783ad2e46ce0",
   "metadata": {},
   "source": [
    "# MEMBUKA FILE CSV"
   ]
  },
  {
   "cell_type": "code",
   "execution_count": 73,
   "id": "d069d416-c19f-4d8e-9901-990679445154",
   "metadata": {
    "tags": []
   },
   "outputs": [],
   "source": [
    "df = pd.read_csv(\"Bengaluru_House_Data.csv\")"
   ]
  },
  {
   "cell_type": "markdown",
   "id": "a8b8e9d9-56c7-4d25-a8f3-6c9126ac11a2",
   "metadata": {},
   "source": [
    "# MENCARI INFORMASI TENTANG ISI DATA CSV"
   ]
  },
  {
   "cell_type": "code",
   "execution_count": 74,
   "id": "a15c2e7c-ced8-472e-ad72-875c4d9cef7e",
   "metadata": {},
   "outputs": [
    {
     "name": "stdout",
     "output_type": "stream",
     "text": [
      "<class 'pandas.core.frame.DataFrame'>\n",
      "RangeIndex: 13320 entries, 0 to 13319\n",
      "Data columns (total 9 columns):\n",
      " #   Column        Non-Null Count  Dtype  \n",
      "---  ------        --------------  -----  \n",
      " 0   area_type     13320 non-null  object \n",
      " 1   availability  13320 non-null  object \n",
      " 2   location      13319 non-null  object \n",
      " 3   size          13304 non-null  object \n",
      " 4   society       7818 non-null   object \n",
      " 5   total_sqft    13320 non-null  object \n",
      " 6   bath          13247 non-null  float64\n",
      " 7   balcony       12711 non-null  float64\n",
      " 8   price         13320 non-null  float64\n",
      "dtypes: float64(3), object(6)\n",
      "memory usage: 936.7+ KB\n"
     ]
    }
   ],
   "source": [
    "df.info()"
   ]
  },
  {
   "cell_type": "markdown",
   "id": "d20ee9ff-2201-4846-8ffe-bb42afec76e2",
   "metadata": {
    "tags": []
   },
   "source": [
    "# MEMASUKKAN DATA YANG DIPEROLEH KE DALAM DICTIONARY"
   ]
  },
  {
   "cell_type": "code",
   "execution_count": 75,
   "id": "fc4f6455-e9ad-4ded-a0b1-c579ec1f1c3f",
   "metadata": {},
   "outputs": [],
   "source": [
    "infodata = {\n",
    "'attributes': [],\n",
    "'object_attributes': 0,\n",
    "'number_attributes': 0,\n",
    "'null_attributes': 0,\n",
    "'total_records': 0,\n",
    "}"
   ]
  },
  {
   "cell_type": "code",
   "execution_count": 76,
   "id": "0b21221d-1814-4796-a493-42d2acced0cd",
   "metadata": {},
   "outputs": [],
   "source": [
    "infodata['attributes'] = list(df.columns.values)\n",
    "infodata['object_attributes'] = list(df.select_dtypes(['object']).columns)\n",
    "infodata['number_attributes'] = list(df.select_dtypes(['float64', 'int64']).columns)\n",
    "infodata['null_attributes'] = list(df.loc[:, df.isnull().any()].columns)\n",
    "infodata['total_records'] = df.shape[0]"
   ]
  },
  {
   "cell_type": "markdown",
   "id": "539b8d70-32ed-4032-8888-0730df9d5b90",
   "metadata": {},
   "source": [
    "# JUMLAH RECORD DATA"
   ]
  },
  {
   "cell_type": "code",
   "execution_count": 77,
   "id": "7d613f80-6788-4c4d-86d4-edcffd3b676a",
   "metadata": {},
   "outputs": [
    {
     "name": "stdout",
     "output_type": "stream",
     "text": [
      "JUMLAH RECORD DATA : 13320\n"
     ]
    }
   ],
   "source": [
    "print(\"JUMLAH RECORD DATA :\", infodata['total_records'])"
   ]
  },
  {
   "cell_type": "markdown",
   "id": "9b959669-c8e4-42c3-8ac6-777fdac0d8e2",
   "metadata": {},
   "source": [
    "# NAMA ATTRIBUTES DATA"
   ]
  },
  {
   "cell_type": "code",
   "execution_count": 78,
   "id": "db6f9707-1d4f-4994-a265-e944ee003c0f",
   "metadata": {},
   "outputs": [
    {
     "name": "stdout",
     "output_type": "stream",
     "text": [
      "NAMA SELURUH ATTRIBUTES DATA : ['area_type', 'availability', 'location', 'size', 'society', 'total_sqft', 'bath', 'balcony', 'price']\n"
     ]
    }
   ],
   "source": [
    "print(\"NAMA SELURUH ATTRIBUTES DATA :\", infodata['attributes'])"
   ]
  },
  {
   "cell_type": "markdown",
   "id": "0d45c7d8-1b82-4987-86fc-941043f1b492",
   "metadata": {},
   "source": [
    "# JUMLAH ATTRIBUTES DATA, TIPE ANGKA, TIPE OBJEK, DAN NULL"
   ]
  },
  {
   "cell_type": "code",
   "execution_count": 79,
   "id": "d49b49f9-b3c7-4557-9468-15539dc221f1",
   "metadata": {},
   "outputs": [
    {
     "name": "stdout",
     "output_type": "stream",
     "text": [
      "TOTAL ATTRIBUTES DATA : 9\n",
      "BANYAK ATTRIBUTES DENGAN TIPE OBJEK : 6\n",
      "BANYAK ATTRIBUTES DENGAN TIPE ANGKA : 3\n",
      "JUMLAH ATTRIBUTES NULL : 5\n"
     ]
    }
   ],
   "source": [
    "print(\"TOTAL ATTRIBUTES DATA :\", len(infodata['attributes']))\n",
    "print(\"BANYAK ATTRIBUTES DENGAN TIPE OBJEK :\", len(infodata['object_attributes']))\n",
    "print(\"BANYAK ATTRIBUTES DENGAN TIPE ANGKA :\", len(infodata['number_attributes']))\n",
    "print(\"JUMLAH ATTRIBUTES NULL :\", len(infodata['null_attributes']))"
   ]
  },
  {
   "cell_type": "markdown",
   "id": "521b6b23-16e2-4a02-9c05-499369cc90cd",
   "metadata": {},
   "source": [
    "# Menampilkan RATA-RATA, STD, MIN, MAX, Q1, Q2, Q3"
   ]
  },
  {
   "cell_type": "code",
   "execution_count": 80,
   "id": "6ed06cb1-f2c0-472d-a01a-088298a978c0",
   "metadata": {},
   "outputs": [
    {
     "data": {
      "text/html": [
       "<div>\n",
       "<style scoped>\n",
       "    .dataframe tbody tr th:only-of-type {\n",
       "        vertical-align: middle;\n",
       "    }\n",
       "\n",
       "    .dataframe tbody tr th {\n",
       "        vertical-align: top;\n",
       "    }\n",
       "\n",
       "    .dataframe thead th {\n",
       "        text-align: right;\n",
       "    }\n",
       "</style>\n",
       "<table border=\"1\" class=\"dataframe\">\n",
       "  <thead>\n",
       "    <tr style=\"text-align: right;\">\n",
       "      <th></th>\n",
       "      <th>bath</th>\n",
       "      <th>balcony</th>\n",
       "      <th>price</th>\n",
       "    </tr>\n",
       "  </thead>\n",
       "  <tbody>\n",
       "    <tr>\n",
       "      <th>count</th>\n",
       "      <td>13247.000000</td>\n",
       "      <td>12711.000000</td>\n",
       "      <td>13320.000000</td>\n",
       "    </tr>\n",
       "    <tr>\n",
       "      <th>mean</th>\n",
       "      <td>2.692610</td>\n",
       "      <td>1.584376</td>\n",
       "      <td>112.565627</td>\n",
       "    </tr>\n",
       "    <tr>\n",
       "      <th>std</th>\n",
       "      <td>1.341458</td>\n",
       "      <td>0.817263</td>\n",
       "      <td>148.971674</td>\n",
       "    </tr>\n",
       "    <tr>\n",
       "      <th>min</th>\n",
       "      <td>1.000000</td>\n",
       "      <td>0.000000</td>\n",
       "      <td>8.000000</td>\n",
       "    </tr>\n",
       "    <tr>\n",
       "      <th>25%</th>\n",
       "      <td>2.000000</td>\n",
       "      <td>1.000000</td>\n",
       "      <td>50.000000</td>\n",
       "    </tr>\n",
       "    <tr>\n",
       "      <th>50%</th>\n",
       "      <td>2.000000</td>\n",
       "      <td>2.000000</td>\n",
       "      <td>72.000000</td>\n",
       "    </tr>\n",
       "    <tr>\n",
       "      <th>75%</th>\n",
       "      <td>3.000000</td>\n",
       "      <td>2.000000</td>\n",
       "      <td>120.000000</td>\n",
       "    </tr>\n",
       "    <tr>\n",
       "      <th>max</th>\n",
       "      <td>40.000000</td>\n",
       "      <td>3.000000</td>\n",
       "      <td>3600.000000</td>\n",
       "    </tr>\n",
       "  </tbody>\n",
       "</table>\n",
       "</div>"
      ],
      "text/plain": [
       "               bath       balcony         price\n",
       "count  13247.000000  12711.000000  13320.000000\n",
       "mean       2.692610      1.584376    112.565627\n",
       "std        1.341458      0.817263    148.971674\n",
       "min        1.000000      0.000000      8.000000\n",
       "25%        2.000000      1.000000     50.000000\n",
       "50%        2.000000      2.000000     72.000000\n",
       "75%        3.000000      2.000000    120.000000\n",
       "max       40.000000      3.000000   3600.000000"
      ]
     },
     "execution_count": 80,
     "metadata": {},
     "output_type": "execute_result"
    }
   ],
   "source": [
    "df.describe()"
   ]
  },
  {
   "cell_type": "markdown",
   "id": "f8b73a3c-9275-4e38-a4b9-eaf052cd7198",
   "metadata": {},
   "source": [
    "# MENAMPILKAN NILAI KORELASI"
   ]
  },
  {
   "cell_type": "code",
   "execution_count": 98,
   "id": "21567f04-42e5-43f8-bed4-fb2f31d2aa69",
   "metadata": {},
   "outputs": [
    {
     "name": "stderr",
     "output_type": "stream",
     "text": [
      "C:\\Users\\Lenovo\\AppData\\Local\\Temp\\ipykernel_13200\\1134722465.py:1: FutureWarning: The default value of numeric_only in DataFrame.corr is deprecated. In a future version, it will default to False. Select only valid columns or specify the value of numeric_only to silence this warning.\n",
      "  df.corr()\n"
     ]
    },
    {
     "data": {
      "text/html": [
       "<div>\n",
       "<style scoped>\n",
       "    .dataframe tbody tr th:only-of-type {\n",
       "        vertical-align: middle;\n",
       "    }\n",
       "\n",
       "    .dataframe tbody tr th {\n",
       "        vertical-align: top;\n",
       "    }\n",
       "\n",
       "    .dataframe thead th {\n",
       "        text-align: right;\n",
       "    }\n",
       "</style>\n",
       "<table border=\"1\" class=\"dataframe\">\n",
       "  <thead>\n",
       "    <tr style=\"text-align: right;\">\n",
       "      <th></th>\n",
       "      <th>balcony</th>\n",
       "      <th>price</th>\n",
       "    </tr>\n",
       "  </thead>\n",
       "  <tbody>\n",
       "    <tr>\n",
       "      <th>balcony</th>\n",
       "      <td>1.000000</td>\n",
       "      <td>0.120355</td>\n",
       "    </tr>\n",
       "    <tr>\n",
       "      <th>price</th>\n",
       "      <td>0.120355</td>\n",
       "      <td>1.000000</td>\n",
       "    </tr>\n",
       "  </tbody>\n",
       "</table>\n",
       "</div>"
      ],
      "text/plain": [
       "          balcony     price\n",
       "balcony  1.000000  0.120355\n",
       "price    0.120355  1.000000"
      ]
     },
     "execution_count": 98,
     "metadata": {},
     "output_type": "execute_result"
    }
   ],
   "source": [
    "df.corr()"
   ]
  },
  {
   "cell_type": "markdown",
   "id": "9b57da17-c885-4bf7-bb67-5a27122daf59",
   "metadata": {},
   "source": [
    "# MENGUBAH ATRIBUT \"balcony\" Menjadi bilangan bulat"
   ]
  },
  {
   "cell_type": "markdown",
   "id": "e87ef90e-1856-4903-9b4d-3b6e20d8f8e1",
   "metadata": {},
   "source": [
    "# SEBELUM DIUBAH"
   ]
  },
  {
   "cell_type": "code",
   "execution_count": 118,
   "id": "53bd68d5-71c2-4891-ae04-432332179b60",
   "metadata": {},
   "outputs": [
    {
     "data": {
      "text/plain": [
       "area_type        object\n",
       "availability     object\n",
       "location         object\n",
       "size             object\n",
       "society          object\n",
       "total_sqft       object\n",
       "bath            float64\n",
       "balcony          object\n",
       "price           float64\n",
       "dtype: object"
      ]
     },
     "execution_count": 118,
     "metadata": {},
     "output_type": "execute_result"
    }
   ],
   "source": [
    "df.dtypes"
   ]
  },
  {
   "cell_type": "code",
   "execution_count": 119,
   "id": "79064db5-bad0-48b5-a75b-9f555f65afe8",
   "metadata": {},
   "outputs": [],
   "source": [
    "df['balcony'] = df['balcony'].astype('float64')"
   ]
  },
  {
   "cell_type": "markdown",
   "id": "3a8d13d2-b68d-49b0-ba6b-e83acea45e18",
   "metadata": {},
   "source": [
    "# SESUDAH DIUBAH"
   ]
  },
  {
   "cell_type": "code",
   "execution_count": 120,
   "id": "472c7395-adec-4b9d-9c63-c59664563214",
   "metadata": {},
   "outputs": [
    {
     "data": {
      "text/plain": [
       "area_type        object\n",
       "availability     object\n",
       "location         object\n",
       "size             object\n",
       "society          object\n",
       "total_sqft       object\n",
       "bath            float64\n",
       "balcony         float64\n",
       "price           float64\n",
       "dtype: object"
      ]
     },
     "execution_count": 120,
     "metadata": {},
     "output_type": "execute_result"
    }
   ],
   "source": [
    "df.dtypes"
   ]
  },
  {
   "cell_type": "code",
   "execution_count": 112,
   "id": "a3c844b3-3a54-4e89-a5fe-1cd49fdffcfd",
   "metadata": {},
   "outputs": [
    {
     "data": {
      "text/html": [
       "<div>\n",
       "<style scoped>\n",
       "    .dataframe tbody tr th:only-of-type {\n",
       "        vertical-align: middle;\n",
       "    }\n",
       "\n",
       "    .dataframe tbody tr th {\n",
       "        vertical-align: top;\n",
       "    }\n",
       "\n",
       "    .dataframe thead th {\n",
       "        text-align: right;\n",
       "    }\n",
       "</style>\n",
       "<table border=\"1\" class=\"dataframe\">\n",
       "  <thead>\n",
       "    <tr style=\"text-align: right;\">\n",
       "      <th></th>\n",
       "      <th>area_type</th>\n",
       "      <th>availability</th>\n",
       "      <th>location</th>\n",
       "      <th>size</th>\n",
       "      <th>society</th>\n",
       "      <th>total_sqft</th>\n",
       "      <th>bath</th>\n",
       "      <th>balcony</th>\n",
       "      <th>price</th>\n",
       "    </tr>\n",
       "  </thead>\n",
       "  <tbody>\n",
       "    <tr>\n",
       "      <th>0</th>\n",
       "      <td>Super built-up  Area</td>\n",
       "      <td>19-Dec</td>\n",
       "      <td>Electronic City Phase II</td>\n",
       "      <td>2 BHK</td>\n",
       "      <td>Coomee</td>\n",
       "      <td>1056</td>\n",
       "      <td>2.0</td>\n",
       "      <td>1.0</td>\n",
       "      <td>39.07</td>\n",
       "    </tr>\n",
       "    <tr>\n",
       "      <th>1</th>\n",
       "      <td>Plot  Area</td>\n",
       "      <td>Ready To Move</td>\n",
       "      <td>Chikka Tirupathi</td>\n",
       "      <td>4 Bedroom</td>\n",
       "      <td>Theanmp</td>\n",
       "      <td>2600</td>\n",
       "      <td>5.0</td>\n",
       "      <td>3.0</td>\n",
       "      <td>120.00</td>\n",
       "    </tr>\n",
       "    <tr>\n",
       "      <th>2</th>\n",
       "      <td>Built-up  Area</td>\n",
       "      <td>Ready To Move</td>\n",
       "      <td>Uttarahalli</td>\n",
       "      <td>3 BHK</td>\n",
       "      <td>NaN</td>\n",
       "      <td>1440</td>\n",
       "      <td>2.0</td>\n",
       "      <td>3.0</td>\n",
       "      <td>62.00</td>\n",
       "    </tr>\n",
       "    <tr>\n",
       "      <th>3</th>\n",
       "      <td>Super built-up  Area</td>\n",
       "      <td>Ready To Move</td>\n",
       "      <td>Lingadheeranahalli</td>\n",
       "      <td>3 BHK</td>\n",
       "      <td>Soiewre</td>\n",
       "      <td>1521</td>\n",
       "      <td>3.0</td>\n",
       "      <td>1.0</td>\n",
       "      <td>95.00</td>\n",
       "    </tr>\n",
       "    <tr>\n",
       "      <th>4</th>\n",
       "      <td>Super built-up  Area</td>\n",
       "      <td>Ready To Move</td>\n",
       "      <td>Kothanur</td>\n",
       "      <td>2 BHK</td>\n",
       "      <td>NaN</td>\n",
       "      <td>1200</td>\n",
       "      <td>2.0</td>\n",
       "      <td>1.0</td>\n",
       "      <td>51.00</td>\n",
       "    </tr>\n",
       "    <tr>\n",
       "      <th>5</th>\n",
       "      <td>Super built-up  Area</td>\n",
       "      <td>Ready To Move</td>\n",
       "      <td>Whitefield</td>\n",
       "      <td>2 BHK</td>\n",
       "      <td>DuenaTa</td>\n",
       "      <td>1170</td>\n",
       "      <td>2.0</td>\n",
       "      <td>1.0</td>\n",
       "      <td>38.00</td>\n",
       "    </tr>\n",
       "    <tr>\n",
       "      <th>6</th>\n",
       "      <td>Super built-up  Area</td>\n",
       "      <td>18-May</td>\n",
       "      <td>Old Airport Road</td>\n",
       "      <td>4 BHK</td>\n",
       "      <td>Jaades</td>\n",
       "      <td>2732</td>\n",
       "      <td>4.0</td>\n",
       "      <td>NaN</td>\n",
       "      <td>204.00</td>\n",
       "    </tr>\n",
       "    <tr>\n",
       "      <th>7</th>\n",
       "      <td>Super built-up  Area</td>\n",
       "      <td>Ready To Move</td>\n",
       "      <td>Rajaji Nagar</td>\n",
       "      <td>4 BHK</td>\n",
       "      <td>Brway G</td>\n",
       "      <td>3300</td>\n",
       "      <td>4.0</td>\n",
       "      <td>NaN</td>\n",
       "      <td>600.00</td>\n",
       "    </tr>\n",
       "    <tr>\n",
       "      <th>8</th>\n",
       "      <td>Super built-up  Area</td>\n",
       "      <td>Ready To Move</td>\n",
       "      <td>Marathahalli</td>\n",
       "      <td>3 BHK</td>\n",
       "      <td>NaN</td>\n",
       "      <td>1310</td>\n",
       "      <td>3.0</td>\n",
       "      <td>1.0</td>\n",
       "      <td>63.25</td>\n",
       "    </tr>\n",
       "    <tr>\n",
       "      <th>9</th>\n",
       "      <td>Plot  Area</td>\n",
       "      <td>Ready To Move</td>\n",
       "      <td>Gandhi Bazar</td>\n",
       "      <td>6 Bedroom</td>\n",
       "      <td>NaN</td>\n",
       "      <td>1020</td>\n",
       "      <td>6.0</td>\n",
       "      <td>NaN</td>\n",
       "      <td>370.00</td>\n",
       "    </tr>\n",
       "  </tbody>\n",
       "</table>\n",
       "</div>"
      ],
      "text/plain": [
       "              area_type   availability                  location       size  \\\n",
       "0  Super built-up  Area         19-Dec  Electronic City Phase II      2 BHK   \n",
       "1            Plot  Area  Ready To Move          Chikka Tirupathi  4 Bedroom   \n",
       "2        Built-up  Area  Ready To Move               Uttarahalli      3 BHK   \n",
       "3  Super built-up  Area  Ready To Move        Lingadheeranahalli      3 BHK   \n",
       "4  Super built-up  Area  Ready To Move                  Kothanur      2 BHK   \n",
       "5  Super built-up  Area  Ready To Move                Whitefield      2 BHK   \n",
       "6  Super built-up  Area         18-May          Old Airport Road      4 BHK   \n",
       "7  Super built-up  Area  Ready To Move              Rajaji Nagar      4 BHK   \n",
       "8  Super built-up  Area  Ready To Move              Marathahalli      3 BHK   \n",
       "9            Plot  Area  Ready To Move              Gandhi Bazar  6 Bedroom   \n",
       "\n",
       "   society total_sqft bath  balcony   price  \n",
       "0  Coomee        1056  2.0      1.0   39.07  \n",
       "1  Theanmp       2600  5.0      3.0  120.00  \n",
       "2      NaN       1440  2.0      3.0   62.00  \n",
       "3  Soiewre       1521  3.0      1.0   95.00  \n",
       "4      NaN       1200  2.0      1.0   51.00  \n",
       "5  DuenaTa       1170  2.0      1.0   38.00  \n",
       "6  Jaades        2732  4.0      NaN  204.00  \n",
       "7  Brway G       3300  4.0      NaN  600.00  \n",
       "8      NaN       1310  3.0      1.0   63.25  \n",
       "9      NaN       1020  6.0      NaN  370.00  "
      ]
     },
     "execution_count": 112,
     "metadata": {},
     "output_type": "execute_result"
    }
   ],
   "source": [
    "df.head(10)"
   ]
  },
  {
   "cell_type": "markdown",
   "id": "759ed605-5ce2-450b-b68f-614d8a489ae1",
   "metadata": {},
   "source": [
    "# MENAMPILKAN 10 RECORD PERTAMA ATRIBUT ANGKA"
   ]
  },
  {
   "cell_type": "code",
   "execution_count": 121,
   "id": "64c03c32-0526-4a4d-9976-9189e19fc731",
   "metadata": {},
   "outputs": [
    {
     "data": {
      "text/html": [
       "<div>\n",
       "<style scoped>\n",
       "    .dataframe tbody tr th:only-of-type {\n",
       "        vertical-align: middle;\n",
       "    }\n",
       "\n",
       "    .dataframe tbody tr th {\n",
       "        vertical-align: top;\n",
       "    }\n",
       "\n",
       "    .dataframe thead th {\n",
       "        text-align: right;\n",
       "    }\n",
       "</style>\n",
       "<table border=\"1\" class=\"dataframe\">\n",
       "  <thead>\n",
       "    <tr style=\"text-align: right;\">\n",
       "      <th></th>\n",
       "      <th>bath</th>\n",
       "      <th>balcony</th>\n",
       "      <th>price</th>\n",
       "    </tr>\n",
       "  </thead>\n",
       "  <tbody>\n",
       "    <tr>\n",
       "      <th>0</th>\n",
       "      <td>2.0</td>\n",
       "      <td>1.0</td>\n",
       "      <td>39.07</td>\n",
       "    </tr>\n",
       "    <tr>\n",
       "      <th>1</th>\n",
       "      <td>5.0</td>\n",
       "      <td>3.0</td>\n",
       "      <td>120.00</td>\n",
       "    </tr>\n",
       "    <tr>\n",
       "      <th>2</th>\n",
       "      <td>2.0</td>\n",
       "      <td>3.0</td>\n",
       "      <td>62.00</td>\n",
       "    </tr>\n",
       "    <tr>\n",
       "      <th>3</th>\n",
       "      <td>3.0</td>\n",
       "      <td>1.0</td>\n",
       "      <td>95.00</td>\n",
       "    </tr>\n",
       "    <tr>\n",
       "      <th>4</th>\n",
       "      <td>2.0</td>\n",
       "      <td>1.0</td>\n",
       "      <td>51.00</td>\n",
       "    </tr>\n",
       "    <tr>\n",
       "      <th>5</th>\n",
       "      <td>2.0</td>\n",
       "      <td>1.0</td>\n",
       "      <td>38.00</td>\n",
       "    </tr>\n",
       "    <tr>\n",
       "      <th>6</th>\n",
       "      <td>4.0</td>\n",
       "      <td>NaN</td>\n",
       "      <td>204.00</td>\n",
       "    </tr>\n",
       "    <tr>\n",
       "      <th>7</th>\n",
       "      <td>4.0</td>\n",
       "      <td>NaN</td>\n",
       "      <td>600.00</td>\n",
       "    </tr>\n",
       "    <tr>\n",
       "      <th>8</th>\n",
       "      <td>3.0</td>\n",
       "      <td>1.0</td>\n",
       "      <td>63.25</td>\n",
       "    </tr>\n",
       "    <tr>\n",
       "      <th>9</th>\n",
       "      <td>6.0</td>\n",
       "      <td>NaN</td>\n",
       "      <td>370.00</td>\n",
       "    </tr>\n",
       "  </tbody>\n",
       "</table>\n",
       "</div>"
      ],
      "text/plain": [
       "   bath  balcony   price\n",
       "0   2.0      1.0   39.07\n",
       "1   5.0      3.0  120.00\n",
       "2   2.0      3.0   62.00\n",
       "3   3.0      1.0   95.00\n",
       "4   2.0      1.0   51.00\n",
       "5   2.0      1.0   38.00\n",
       "6   4.0      NaN  204.00\n",
       "7   4.0      NaN  600.00\n",
       "8   3.0      1.0   63.25\n",
       "9   6.0      NaN  370.00"
      ]
     },
     "execution_count": 121,
     "metadata": {},
     "output_type": "execute_result"
    }
   ],
   "source": [
    "dh = df.select_dtypes(include=np.number)\n",
    "dh.head(10)"
   ]
  },
  {
   "cell_type": "code",
   "execution_count": 122,
   "id": "770ca90c-35ce-479f-9599-846f4abaa476",
   "metadata": {},
   "outputs": [
    {
     "data": {
      "text/plain": [
       "<bound method NDFrame.to_csv of        bath  balcony   price\n",
       "0       2.0      1.0   39.07\n",
       "1       5.0      3.0  120.00\n",
       "2       2.0      3.0   62.00\n",
       "3       3.0      1.0   95.00\n",
       "4       2.0      1.0   51.00\n",
       "...     ...      ...     ...\n",
       "13315   4.0      0.0  231.00\n",
       "13316   5.0      NaN  400.00\n",
       "13317   2.0      1.0   60.00\n",
       "13318   4.0      1.0  488.00\n",
       "13319   1.0      1.0   17.00\n",
       "\n",
       "[13320 rows x 3 columns]>"
      ]
     },
     "execution_count": 122,
     "metadata": {},
     "output_type": "execute_result"
    }
   ],
   "source": [
    "df[['bath', 'balcony', 'price']].to_csv"
   ]
  },
  {
   "cell_type": "code",
   "execution_count": null,
   "id": "17363e74-afb3-4b26-8cbd-260f8829ae96",
   "metadata": {},
   "outputs": [],
   "source": []
  }
 ],
 "metadata": {
  "kernelspec": {
   "display_name": "novan_032",
   "language": "python",
   "name": "novan_032"
  },
  "language_info": {
   "codemirror_mode": {
    "name": "ipython",
    "version": 3
   },
   "file_extension": ".py",
   "mimetype": "text/x-python",
   "name": "python",
   "nbconvert_exporter": "python",
   "pygments_lexer": "ipython3",
   "version": "3.10.4"
  }
 },
 "nbformat": 4,
 "nbformat_minor": 5
}
