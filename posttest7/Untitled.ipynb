{
 "cells": [
  {
   "cell_type": "markdown",
   "id": "da2809c2-4994-40c6-a8f5-f38b4b033eae",
   "metadata": {},
   "source": [
    "## NAMA: MUHAMMAD NOVAN SAPUTRA\n",
    "## NIM: 2109106032\n",
    "## POSTTEST 7 KB"
   ]
  },
  {
   "cell_type": "markdown",
   "id": "41a01b63-a84f-48e0-b700-88d0711cb767",
   "metadata": {},
   "source": [
    "## IMPORT LIBRARY"
   ]
  },
  {
   "cell_type": "code",
   "execution_count": 1,
   "id": "67da69cc-1645-4eda-a63d-5a95a13ac200",
   "metadata": {},
   "outputs": [],
   "source": [
    "import tensorflow as tf"
   ]
  },
  {
   "cell_type": "markdown",
   "id": "342f6f68-fe4b-414c-9106-1b9ab9404415",
   "metadata": {},
   "source": [
    "## Membuat Random Tensor"
   ]
  },
  {
   "cell_type": "code",
   "execution_count": 2,
   "id": "e5e47d63-fd68-403c-b66f-a59788ec1038",
   "metadata": {},
   "outputs": [
    {
     "data": {
      "text/plain": [
       "<tf.Tensor: shape=(5, 5), dtype=float32, numpy=\n",
       "array([[-0.8113182 ,  1.4845988 ,  0.06532937, -2.4427042 ,  0.0992484 ],\n",
       "       [ 0.5912243 ,  0.59282297, -2.1229296 , -0.72289723, -0.05627038],\n",
       "       [ 0.6435448 , -0.26432407,  1.8566332 ,  0.5678417 , -0.3828359 ],\n",
       "       [-1.4853433 ,  1.2617711 , -0.02530608, -0.2646297 ,  1.5328138 ],\n",
       "       [-1.7429771 , -0.43789294, -0.56601   ,  0.32066926,  1.132831  ]],\n",
       "      dtype=float32)>"
      ]
     },
     "execution_count": 2,
     "metadata": {},
     "output_type": "execute_result"
    }
   ],
   "source": [
    "random_tensor = tf.random.normal([5,5], seed=1)\n",
    "random_tensor"
   ]
  },
  {
   "cell_type": "markdown",
   "id": "9a9a664f-eca9-406e-8f47-39aeeeac4f80",
   "metadata": {},
   "source": [
    "## Membuat Prime Tensor bilangan prima [5,5]"
   ]
  },
  {
   "cell_type": "code",
   "execution_count": 5,
   "id": "fb5b9fb1-54ac-4c50-9544-e7973f9a7952",
   "metadata": {},
   "outputs": [
    {
     "data": {
      "text/plain": [
       "<tf.Tensor: shape=(5, 5), dtype=float32, numpy=\n",
       "array([[ 2.,  3.,  5.,  7., 11.],\n",
       "       [13., 17., 19., 23., 29.],\n",
       "       [31., 37., 41., 43., 47.],\n",
       "       [53., 59., 61., 67., 71.],\n",
       "       [73., 79., 83., 89., 97.]], dtype=float32)>"
      ]
     },
     "execution_count": 5,
     "metadata": {},
     "output_type": "execute_result"
    }
   ],
   "source": [
    "prima = [[2,3,5,7,11], [13,17,19,23,29],\n",
    "         [31,37,41,43,47], [53, 59, 61, 67, 71],\n",
    "         [73, 79, 83, 89, 97]]\n",
    "\n",
    "prime_tensor = tf.convert_to_tensor(prima, dtype=tf.float32)\n",
    "prime_tensor"
   ]
  },
  {
   "cell_type": "markdown",
   "id": "c6abd776-9f0b-47ca-9797-9ccf7775e91e",
   "metadata": {},
   "source": [
    "## Tampilkan dimensi Kedua Variabel"
   ]
  },
  {
   "cell_type": "code",
   "execution_count": 6,
   "id": "92e0e40e-6517-4c4e-8ff5-0e9bb034aa46",
   "metadata": {},
   "outputs": [
    {
     "name": "stdout",
     "output_type": "stream",
     "text": [
      "Dimensi Variabel Random = (5, 5)\n"
     ]
    }
   ],
   "source": [
    "print(\"Dimensi Variabel Random =\",random_tensor.shape)"
   ]
  },
  {
   "cell_type": "code",
   "execution_count": 7,
   "id": "d65e8e3b-e75e-4660-98a2-0fc7c9aa292a",
   "metadata": {},
   "outputs": [
    {
     "name": "stdout",
     "output_type": "stream",
     "text": [
      "Dimensi Variabel Prime = (5, 5)\n"
     ]
    }
   ],
   "source": [
    "print(\"Dimensi Variabel Prime =\", prime_tensor.shape)"
   ]
  },
  {
   "cell_type": "markdown",
   "id": "d99b556f-b9fb-4d40-acdb-b8d6ec268c7c",
   "metadata": {},
   "source": [
    "## Operasi Aritmatika"
   ]
  },
  {
   "cell_type": "markdown",
   "id": "08697d18-88fd-4811-96b2-370cafd28b09",
   "metadata": {},
   "source": [
    "### PENJUMLAHAN"
   ]
  },
  {
   "cell_type": "code",
   "execution_count": 40,
   "id": "71c07bbb-e75c-4cd5-9b29-c9be14e49b46",
   "metadata": {},
   "outputs": [
    {
     "name": "stdout",
     "output_type": "stream",
     "text": [
      "tf.Tensor(\n",
      "[[ 1.1886818  4.4845986  5.0653296  4.557296  11.099248 ]\n",
      " [13.591225  17.592823  16.877071  22.277103  28.94373  ]\n",
      " [31.643545  36.735676  42.856632  43.56784   46.617165 ]\n",
      " [51.514656  60.261772  60.974693  66.73537   72.532814 ]\n",
      " [71.25702   78.5621    82.43399   89.32067   98.13283  ]], shape=(5, 5), dtype=float32)\n"
     ]
    }
   ],
   "source": [
    "print(tf.add(random_tensor, prime_tensor))"
   ]
  },
  {
   "cell_type": "markdown",
   "id": "e7182829-8159-4be7-be06-1eca01ae63f0",
   "metadata": {},
   "source": [
    "### PENGURANGAN"
   ]
  },
  {
   "cell_type": "code",
   "execution_count": 41,
   "id": "c366c4b3-7491-4e26-a58d-65e4d7859d13",
   "metadata": {},
   "outputs": [
    {
     "name": "stdout",
     "output_type": "stream",
     "text": [
      "tf.Tensor(\n",
      "[[ -2.8113182  -1.5154012  -4.9346704  -9.442704  -10.900752 ]\n",
      " [-12.408775  -16.407177  -21.122929  -23.722897  -29.05627  ]\n",
      " [-30.356455  -37.264324  -39.143368  -42.43216   -47.382835 ]\n",
      " [-54.485344  -57.738228  -61.025307  -67.26463   -69.467186 ]\n",
      " [-74.74298   -79.4379    -83.56601   -88.67933   -95.86717  ]], shape=(5, 5), dtype=float32)\n"
     ]
    }
   ],
   "source": [
    "print(tf.subtract(random_tensor, prime_tensor))"
   ]
  },
  {
   "cell_type": "markdown",
   "id": "a00d4327-8312-4311-94c3-01f0febd350a",
   "metadata": {},
   "source": [
    "### PERKALIAN"
   ]
  },
  {
   "cell_type": "code",
   "execution_count": 45,
   "id": "431e66c8-2321-4ccb-95d8-a128e8b4f797",
   "metadata": {},
   "outputs": [
    {
     "name": "stdout",
     "output_type": "stream",
     "text": [
      "tf.Tensor(\n",
      "[[  -1.6226364     4.4537964     0.32664686  -17.09893       1.0917324 ]\n",
      " [   7.685916     10.077991    -40.335663    -16.626637     -1.6318411 ]\n",
      " [  19.949888     -9.77999      76.12196      24.417194    -17.993286  ]\n",
      " [ -78.7232       74.444496     -1.5436709   -17.73019     108.82978   ]\n",
      " [-127.237335    -34.593544    -46.97883      28.539564    109.884605  ]], shape=(5, 5), dtype=float32)\n"
     ]
    }
   ],
   "source": [
    "print(tf.multiply(random_tensor, prime_tensor))"
   ]
  },
  {
   "cell_type": "markdown",
   "id": "6c04111e-1800-488a-af59-c999557ff02a",
   "metadata": {},
   "source": [
    "### PEMBAGIAN"
   ]
  },
  {
   "cell_type": "code",
   "execution_count": 46,
   "id": "d222185d-aefb-4055-87f8-b4b43a57ddbd",
   "metadata": {},
   "outputs": [
    {
     "name": "stdout",
     "output_type": "stream",
     "text": [
      "tf.Tensor(\n",
      "[[-4.0565911e-01  4.9486625e-01  1.3065875e-02 -3.4895775e-01\n",
      "   9.0225823e-03]\n",
      " [ 4.5478795e-02  3.4871940e-02 -1.1173314e-01 -3.1430315e-02\n",
      "  -1.9403580e-03]\n",
      " [ 2.0759510e-02 -7.1438937e-03  4.5283735e-02  1.3205621e-02\n",
      "  -8.1454450e-03]\n",
      " [-2.8025346e-02  2.1385951e-02 -4.1485377e-04 -3.9496967e-03\n",
      "   2.1588927e-02]\n",
      " [-2.3876399e-02 -5.5429488e-03 -6.8193977e-03  3.6030253e-03\n",
      "   1.1678670e-02]], shape=(5, 5), dtype=float32)\n"
     ]
    }
   ],
   "source": [
    "print(tf.divide(random_tensor, prime_tensor))"
   ]
  },
  {
   "cell_type": "markdown",
   "id": "9e7ad779-86aa-41e0-99b6-a13e9187e57d",
   "metadata": {},
   "source": [
    "### PANGKAT"
   ]
  },
  {
   "cell_type": "code",
   "execution_count": 47,
   "id": "4e214ed4-e17d-49e8-9c6e-2c9147de83c4",
   "metadata": {},
   "outputs": [
    {
     "name": "stdout",
     "output_type": "stream",
     "text": [
      "tf.Tensor(\n",
      "[[ 6.5823728e-01  3.2721055e+00  1.1899876e-06 -5.1891492e+02\n",
      "   9.2036214e-12]\n",
      " [ 1.0783996e-03  1.3795117e-04 -1.6284565e+06 -5.7380047e-04\n",
      "  -5.7294839e-37]\n",
      " [ 1.1639711e-06 -4.1596646e-22  1.0417667e+11  2.7025481e-11\n",
      "  -2.5211261e-20]\n",
      " [-1.2788605e+09  9.0751462e+05 -0.0000000e+00 -0.0000000e+00\n",
      "   1.4782479e+13]\n",
      " [-4.1142766e+17 -4.6565877e-29 -3.0507073e-21  0.0000000e+00\n",
      "   1.7948009e+05]], shape=(5, 5), dtype=float32)\n"
     ]
    }
   ],
   "source": [
    "print(tf.pow(random_tensor, prime_tensor))"
   ]
  },
  {
   "cell_type": "markdown",
   "id": "26ddd02c-906e-4edf-8c31-5c9110bd408f",
   "metadata": {},
   "source": [
    "### LOGARITMA"
   ]
  },
  {
   "cell_type": "code",
   "execution_count": 48,
   "id": "1a51bb82-be61-4d7e-8d16-bf0a24607ab4",
   "metadata": {},
   "outputs": [
    {
     "name": "stdout",
     "output_type": "stream",
     "text": [
      "tf.Tensor(\n",
      "[[        nan  0.39514455 -2.7283134          nan -2.3101294 ]\n",
      " [-0.5255598  -0.52285945         nan         nan         nan]\n",
      " [-0.44076362         nan  0.61876476 -0.5659126          nan]\n",
      " [        nan  0.23251635         nan         nan  0.42710513]\n",
      " [        nan         nan         nan -1.1373451   0.12471979]], shape=(5, 5), dtype=float32)\n"
     ]
    }
   ],
   "source": [
    "print(tf.math.log(random_tensor, prime_tensor))"
   ]
  },
  {
   "cell_type": "markdown",
   "id": "6d3032e9-0c77-4dba-9d8e-c281b4c35cde",
   "metadata": {},
   "source": [
    "# Menampilkan nilai Maksimal dan Minimal dari variabel Random Tensor"
   ]
  },
  {
   "cell_type": "markdown",
   "id": "477f25ad-9854-405d-82a1-b2de55b483e4",
   "metadata": {},
   "source": [
    "## Nilai MAX dari baris Random Tensor"
   ]
  },
  {
   "cell_type": "code",
   "execution_count": 22,
   "id": "d26eb032-8c83-4886-a3df-1b06df0b4c7a",
   "metadata": {},
   "outputs": [
    {
     "data": {
      "text/plain": [
       "array([2, 0, 2, 2, 3], dtype=int64)"
      ]
     },
     "execution_count": 22,
     "metadata": {},
     "output_type": "execute_result"
    }
   ],
   "source": [
    "tf.argmax(random_tensor, axis = 0).numpy()"
   ]
  },
  {
   "cell_type": "markdown",
   "id": "5d770c32-a2a8-4a8b-9559-8ad3e763281e",
   "metadata": {},
   "source": [
    "## Nilai MAX dari kolom Random Tensor"
   ]
  },
  {
   "cell_type": "code",
   "execution_count": 23,
   "id": "2b9afc64-d4d5-4a83-a6b8-03de4520ccce",
   "metadata": {},
   "outputs": [
    {
     "data": {
      "text/plain": [
       "array([1, 1, 2, 4, 4], dtype=int64)"
      ]
     },
     "execution_count": 23,
     "metadata": {},
     "output_type": "execute_result"
    }
   ],
   "source": [
    "tf.argmax(random_tensor,axis=1).numpy()"
   ]
  },
  {
   "cell_type": "markdown",
   "id": "0ac4d038-d51e-40d1-8a2a-c1d630a0a197",
   "metadata": {},
   "source": [
    "## Nilai MIN dari baris Random Tensor"
   ]
  },
  {
   "cell_type": "code",
   "execution_count": 24,
   "id": "50f5f628-aef4-485a-828b-68fad71aa39e",
   "metadata": {},
   "outputs": [
    {
     "data": {
      "text/plain": [
       "array([4, 4, 1, 0, 2], dtype=int64)"
      ]
     },
     "execution_count": 24,
     "metadata": {},
     "output_type": "execute_result"
    }
   ],
   "source": [
    "tf.argmin(random_tensor,axis=0).numpy()"
   ]
  },
  {
   "cell_type": "markdown",
   "id": "5890513e-fa03-4980-a8f5-e3b5b7bb53c1",
   "metadata": {},
   "source": [
    "## Nilai MIN dari kolom Random Tensor"
   ]
  },
  {
   "cell_type": "code",
   "execution_count": 25,
   "id": "338ca9c0-9a7b-4635-990e-e0f5754bf6b2",
   "metadata": {},
   "outputs": [
    {
     "data": {
      "text/plain": [
       "array([3, 2, 4, 0, 0], dtype=int64)"
      ]
     },
     "execution_count": 25,
     "metadata": {},
     "output_type": "execute_result"
    }
   ],
   "source": [
    "tf.argmin(random_tensor, axis = 1).numpy()"
   ]
  },
  {
   "cell_type": "markdown",
   "id": "d8054263-55e7-4b54-a0fb-85b613779ddf",
   "metadata": {},
   "source": [
    "# Menampilkan hasil dari penggabungan kedua variabel random_tensor dengan prime_tensor"
   ]
  },
  {
   "cell_type": "markdown",
   "id": "5ae75f43-fb47-40e4-8407-0f7363eda964",
   "metadata": {},
   "source": [
    "## Penggabungan baris"
   ]
  },
  {
   "cell_type": "code",
   "execution_count": 30,
   "id": "bb243c5d-f1d4-4910-87c1-0f806b579125",
   "metadata": {},
   "outputs": [
    {
     "data": {
      "text/plain": [
       "<tf.Tensor: shape=(10, 5), dtype=float32, numpy=\n",
       "array([[-8.1131822e-01,  1.4845988e+00,  6.5329373e-02, -2.4427042e+00,\n",
       "         9.9248402e-02],\n",
       "       [ 5.9122431e-01,  5.9282297e-01, -2.1229296e+00, -7.2289723e-01,\n",
       "        -5.6270380e-02],\n",
       "       [ 6.4354479e-01, -2.6432407e-01,  1.8566332e+00,  5.6784171e-01,\n",
       "        -3.8283589e-01],\n",
       "       [-1.4853433e+00,  1.2617711e+00, -2.5306080e-02, -2.6462969e-01,\n",
       "         1.5328138e+00],\n",
       "       [-1.7429771e+00, -4.3789294e-01, -5.6601000e-01,  3.2066926e-01,\n",
       "         1.1328310e+00],\n",
       "       [ 2.0000000e+00,  3.0000000e+00,  5.0000000e+00,  7.0000000e+00,\n",
       "         1.1000000e+01],\n",
       "       [ 1.3000000e+01,  1.7000000e+01,  1.9000000e+01,  2.3000000e+01,\n",
       "         2.9000000e+01],\n",
       "       [ 3.1000000e+01,  3.7000000e+01,  4.1000000e+01,  4.3000000e+01,\n",
       "         4.7000000e+01],\n",
       "       [ 5.3000000e+01,  5.9000000e+01,  6.1000000e+01,  6.7000000e+01,\n",
       "         7.1000000e+01],\n",
       "       [ 7.3000000e+01,  7.9000000e+01,  8.3000000e+01,  8.9000000e+01,\n",
       "         9.7000000e+01]], dtype=float32)>"
      ]
     },
     "execution_count": 30,
     "metadata": {},
     "output_type": "execute_result"
    }
   ],
   "source": [
    "concat1 = tf.concat([random_tensor,prime_tensor],axis=0)\n",
    "concat1"
   ]
  },
  {
   "cell_type": "markdown",
   "id": "5ba8ee46-382e-4955-858a-f76242bfde68",
   "metadata": {},
   "source": [
    "## Penggabungan kolom"
   ]
  },
  {
   "cell_type": "code",
   "execution_count": 31,
   "id": "5899f2e0-e989-467e-a292-775a2358ca99",
   "metadata": {},
   "outputs": [
    {
     "data": {
      "text/plain": [
       "<tf.Tensor: shape=(5, 10), dtype=float32, numpy=\n",
       "array([[-8.1131822e-01,  1.4845988e+00,  6.5329373e-02, -2.4427042e+00,\n",
       "         9.9248402e-02,  2.0000000e+00,  3.0000000e+00,  5.0000000e+00,\n",
       "         7.0000000e+00,  1.1000000e+01],\n",
       "       [ 5.9122431e-01,  5.9282297e-01, -2.1229296e+00, -7.2289723e-01,\n",
       "        -5.6270380e-02,  1.3000000e+01,  1.7000000e+01,  1.9000000e+01,\n",
       "         2.3000000e+01,  2.9000000e+01],\n",
       "       [ 6.4354479e-01, -2.6432407e-01,  1.8566332e+00,  5.6784171e-01,\n",
       "        -3.8283589e-01,  3.1000000e+01,  3.7000000e+01,  4.1000000e+01,\n",
       "         4.3000000e+01,  4.7000000e+01],\n",
       "       [-1.4853433e+00,  1.2617711e+00, -2.5306080e-02, -2.6462969e-01,\n",
       "         1.5328138e+00,  5.3000000e+01,  5.9000000e+01,  6.1000000e+01,\n",
       "         6.7000000e+01,  7.1000000e+01],\n",
       "       [-1.7429771e+00, -4.3789294e-01, -5.6601000e-01,  3.2066926e-01,\n",
       "         1.1328310e+00,  7.3000000e+01,  7.9000000e+01,  8.3000000e+01,\n",
       "         8.9000000e+01,  9.7000000e+01]], dtype=float32)>"
      ]
     },
     "execution_count": 31,
     "metadata": {},
     "output_type": "execute_result"
    }
   ],
   "source": [
    "concat2 = tf.concat([random_tensor,prime_tensor],axis=1)\n",
    "concat2"
   ]
  },
  {
   "cell_type": "markdown",
   "id": "2f55c93f-d095-44cc-af90-0b1324382ee1",
   "metadata": {},
   "source": [
    "### CONCAT DALAM BENTUK SHAPE BARIS dan KOLOM"
   ]
  },
  {
   "cell_type": "code",
   "execution_count": 32,
   "id": "d7a6657a-930e-490f-a9c4-5b0157f3e7f7",
   "metadata": {},
   "outputs": [
    {
     "data": {
      "text/plain": [
       "TensorShape([10, 5])"
      ]
     },
     "execution_count": 32,
     "metadata": {},
     "output_type": "execute_result"
    }
   ],
   "source": [
    "tf.concat([random_tensor, prime_tensor],axis= 0).shape"
   ]
  },
  {
   "cell_type": "code",
   "execution_count": 33,
   "id": "fd80444a-78f9-4faa-b1c4-206857d918f8",
   "metadata": {},
   "outputs": [
    {
     "data": {
      "text/plain": [
       "TensorShape([5, 10])"
      ]
     },
     "execution_count": 33,
     "metadata": {},
     "output_type": "execute_result"
    }
   ],
   "source": [
    "tf.concat([random_tensor, prime_tensor],axis= 1).shape"
   ]
  },
  {
   "cell_type": "markdown",
   "id": "3065e5ac-582e-4a9c-8af3-d9a27c7ef4e3",
   "metadata": {},
   "source": [
    "# Menampilkan hasil sorting"
   ]
  },
  {
   "cell_type": "markdown",
   "id": "05a9469d-f205-47ff-aa4f-65292e730a77",
   "metadata": {},
   "source": [
    "### Sorting RANDOM_TENSOR"
   ]
  },
  {
   "cell_type": "code",
   "execution_count": 34,
   "id": "7874b994-8b41-4d18-898b-c89108f246af",
   "metadata": {},
   "outputs": [
    {
     "data": {
      "text/plain": [
       "array([[ 1.4845988 ,  0.0992484 ,  0.06532937, -0.8113182 , -2.4427042 ],\n",
       "       [ 0.59282297,  0.5912243 , -0.05627038, -0.72289723, -2.1229296 ],\n",
       "       [ 1.8566332 ,  0.6435448 ,  0.5678417 , -0.26432407, -0.3828359 ],\n",
       "       [ 1.5328138 ,  1.2617711 , -0.02530608, -0.2646297 , -1.4853433 ],\n",
       "       [ 1.132831  ,  0.32066926, -0.43789294, -0.56601   , -1.7429771 ]],\n",
       "      dtype=float32)"
      ]
     },
     "execution_count": 34,
     "metadata": {},
     "output_type": "execute_result"
    }
   ],
   "source": [
    "tf.sort(random_tensor, direction=\"DESCENDING\").numpy()"
   ]
  },
  {
   "cell_type": "code",
   "execution_count": 35,
   "id": "d6815747-8183-40c0-a9e7-83e3895fca1b",
   "metadata": {},
   "outputs": [
    {
     "data": {
      "text/plain": [
       "array([[1, 4, 2, 0, 3],\n",
       "       [1, 0, 4, 3, 2],\n",
       "       [2, 0, 3, 1, 4],\n",
       "       [4, 1, 2, 3, 0],\n",
       "       [4, 3, 1, 2, 0]])"
      ]
     },
     "execution_count": 35,
     "metadata": {},
     "output_type": "execute_result"
    }
   ],
   "source": [
    "tf.argsort(random_tensor, direction=\"DESCENDING\").numpy()"
   ]
  },
  {
   "cell_type": "markdown",
   "id": "63a2e16a-e128-4d33-8e7b-83255e778e3f",
   "metadata": {},
   "source": [
    "### Sorting PRIME_TENSOR"
   ]
  },
  {
   "cell_type": "code",
   "execution_count": 36,
   "id": "9ce2c8de-b356-458e-b771-64040f57f787",
   "metadata": {},
   "outputs": [
    {
     "data": {
      "text/plain": [
       "array([[11.,  7.,  5.,  3.,  2.],\n",
       "       [29., 23., 19., 17., 13.],\n",
       "       [47., 43., 41., 37., 31.],\n",
       "       [71., 67., 61., 59., 53.],\n",
       "       [97., 89., 83., 79., 73.]], dtype=float32)"
      ]
     },
     "execution_count": 36,
     "metadata": {},
     "output_type": "execute_result"
    }
   ],
   "source": [
    "tf.sort(prime_tensor, direction=\"DESCENDING\").numpy()"
   ]
  },
  {
   "cell_type": "code",
   "execution_count": 37,
   "id": "dffd018a-5f1b-4eba-a6d5-923e9f0f4960",
   "metadata": {},
   "outputs": [
    {
     "data": {
      "text/plain": [
       "array([[4, 3, 2, 1, 0],\n",
       "       [4, 3, 2, 1, 0],\n",
       "       [4, 3, 2, 1, 0],\n",
       "       [4, 3, 2, 1, 0],\n",
       "       [4, 3, 2, 1, 0]])"
      ]
     },
     "execution_count": 37,
     "metadata": {},
     "output_type": "execute_result"
    }
   ],
   "source": [
    "tf.argsort(prime_tensor, direction=\"DESCENDING\").numpy()"
   ]
  },
  {
   "cell_type": "code",
   "execution_count": null,
   "id": "c0f9ee02-d9db-42e6-af3e-3ff47607064c",
   "metadata": {},
   "outputs": [],
   "source": []
  }
 ],
 "metadata": {
  "kernelspec": {
   "display_name": "Python 3 (ipykernel)",
   "language": "python",
   "name": "python3"
  },
  "language_info": {
   "codemirror_mode": {
    "name": "ipython",
    "version": 3
   },
   "file_extension": ".py",
   "mimetype": "text/x-python",
   "name": "python",
   "nbconvert_exporter": "python",
   "pygments_lexer": "ipython3",
   "version": "3.10.4"
  }
 },
 "nbformat": 4,
 "nbformat_minor": 5
}
