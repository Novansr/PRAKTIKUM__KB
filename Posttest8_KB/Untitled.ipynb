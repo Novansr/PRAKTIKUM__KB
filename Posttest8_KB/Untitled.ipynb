{
 "cells": [
  {
   "cell_type": "markdown",
   "id": "495768e1-30ac-4865-9640-de00e7d643e3",
   "metadata": {},
   "source": [
    "## Import Library"
   ]
  },
  {
   "cell_type": "code",
   "execution_count": 48,
   "id": "fbd5c6b5-8b84-416a-815c-4dc2e9fe9d9c",
   "metadata": {},
   "outputs": [],
   "source": [
    "import pandas as pd\n",
    "import numpy as np\n",
    "import matplotlib.pyplot as plt"
   ]
  },
  {
   "cell_type": "markdown",
   "id": "c16d2b32-0fde-4097-b478-6bb77ac3cb79",
   "metadata": {
    "tags": []
   },
   "source": [
    "## Import Modul Keras dari TensorFlow"
   ]
  },
  {
   "cell_type": "code",
   "execution_count": 49,
   "id": "91501de4-fd8b-4806-ac0a-bc30f653780a",
   "metadata": {},
   "outputs": [],
   "source": [
    "import tensorflow as tf\n",
    "from tensorflow import keras\n",
    "from tensorflow.keras import Sequential\n",
    "from tensorflow.keras.layers import Dense\n",
    "from keras import datasets"
   ]
  },
  {
   "cell_type": "markdown",
   "id": "58dab527-95bf-4c06-9d73-2cd4868571c6",
   "metadata": {},
   "source": [
    "## Import Modul SKlearn"
   ]
  },
  {
   "cell_type": "code",
   "execution_count": 50,
   "id": "d677453e-9229-4a66-86f2-f9ca7a00e3ff",
   "metadata": {},
   "outputs": [],
   "source": [
    "from sklearn.preprocessing import StandardScaler \n",
    "from sklearn.model_selection import train_test_split"
   ]
  },
  {
   "cell_type": "markdown",
   "id": "0b2f14e5-7c6d-4dbb-bcf3-19ab17317174",
   "metadata": {},
   "source": [
    "## Read Dataset"
   ]
  },
  {
   "cell_type": "code",
   "execution_count": 51,
   "id": "9b5fe8f0-1a84-45de-8395-9d8b89b4ce45",
   "metadata": {},
   "outputs": [
    {
     "data": {
      "text/html": [
       "<div>\n",
       "<style scoped>\n",
       "    .dataframe tbody tr th:only-of-type {\n",
       "        vertical-align: middle;\n",
       "    }\n",
       "\n",
       "    .dataframe tbody tr th {\n",
       "        vertical-align: top;\n",
       "    }\n",
       "\n",
       "    .dataframe thead th {\n",
       "        text-align: right;\n",
       "    }\n",
       "</style>\n",
       "<table border=\"1\" class=\"dataframe\">\n",
       "  <thead>\n",
       "    <tr style=\"text-align: right;\">\n",
       "      <th></th>\n",
       "      <th>age</th>\n",
       "      <th>workclass</th>\n",
       "      <th>fnlwgt</th>\n",
       "      <th>education</th>\n",
       "      <th>education-num</th>\n",
       "      <th>marital-status</th>\n",
       "      <th>occupation</th>\n",
       "      <th>relationship</th>\n",
       "      <th>race</th>\n",
       "      <th>sex</th>\n",
       "      <th>capital-gain</th>\n",
       "      <th>capital-loss</th>\n",
       "      <th>hours-per-week</th>\n",
       "      <th>native-country</th>\n",
       "      <th>income</th>\n",
       "    </tr>\n",
       "  </thead>\n",
       "  <tbody>\n",
       "    <tr>\n",
       "      <th>0</th>\n",
       "      <td>25</td>\n",
       "      <td>Private</td>\n",
       "      <td>226802</td>\n",
       "      <td>11th</td>\n",
       "      <td>7</td>\n",
       "      <td>Never-married</td>\n",
       "      <td>Machine-op-inspct</td>\n",
       "      <td>Own-child</td>\n",
       "      <td>Black</td>\n",
       "      <td>Male</td>\n",
       "      <td>0</td>\n",
       "      <td>0</td>\n",
       "      <td>40</td>\n",
       "      <td>United-States</td>\n",
       "      <td>&lt;=50K</td>\n",
       "    </tr>\n",
       "    <tr>\n",
       "      <th>1</th>\n",
       "      <td>38</td>\n",
       "      <td>Private</td>\n",
       "      <td>89814</td>\n",
       "      <td>HS-grad</td>\n",
       "      <td>9</td>\n",
       "      <td>Married-civ-spouse</td>\n",
       "      <td>Farming-fishing</td>\n",
       "      <td>Husband</td>\n",
       "      <td>White</td>\n",
       "      <td>Male</td>\n",
       "      <td>0</td>\n",
       "      <td>0</td>\n",
       "      <td>50</td>\n",
       "      <td>United-States</td>\n",
       "      <td>&lt;=50K</td>\n",
       "    </tr>\n",
       "    <tr>\n",
       "      <th>2</th>\n",
       "      <td>28</td>\n",
       "      <td>Local-gov</td>\n",
       "      <td>336951</td>\n",
       "      <td>Assoc-acdm</td>\n",
       "      <td>12</td>\n",
       "      <td>Married-civ-spouse</td>\n",
       "      <td>Protective-serv</td>\n",
       "      <td>Husband</td>\n",
       "      <td>White</td>\n",
       "      <td>Male</td>\n",
       "      <td>0</td>\n",
       "      <td>0</td>\n",
       "      <td>40</td>\n",
       "      <td>United-States</td>\n",
       "      <td>&gt;50K</td>\n",
       "    </tr>\n",
       "    <tr>\n",
       "      <th>3</th>\n",
       "      <td>44</td>\n",
       "      <td>Private</td>\n",
       "      <td>160323</td>\n",
       "      <td>Some-college</td>\n",
       "      <td>10</td>\n",
       "      <td>Married-civ-spouse</td>\n",
       "      <td>Machine-op-inspct</td>\n",
       "      <td>Husband</td>\n",
       "      <td>Black</td>\n",
       "      <td>Male</td>\n",
       "      <td>7688</td>\n",
       "      <td>0</td>\n",
       "      <td>40</td>\n",
       "      <td>United-States</td>\n",
       "      <td>&gt;50K</td>\n",
       "    </tr>\n",
       "    <tr>\n",
       "      <th>4</th>\n",
       "      <td>18</td>\n",
       "      <td>?</td>\n",
       "      <td>103497</td>\n",
       "      <td>Some-college</td>\n",
       "      <td>10</td>\n",
       "      <td>Never-married</td>\n",
       "      <td>?</td>\n",
       "      <td>Own-child</td>\n",
       "      <td>White</td>\n",
       "      <td>Female</td>\n",
       "      <td>0</td>\n",
       "      <td>0</td>\n",
       "      <td>30</td>\n",
       "      <td>United-States</td>\n",
       "      <td>&lt;=50K</td>\n",
       "    </tr>\n",
       "  </tbody>\n",
       "</table>\n",
       "</div>"
      ],
      "text/plain": [
       "   age  workclass  fnlwgt     education  education-num      marital-status  \\\n",
       "0   25    Private  226802          11th              7       Never-married   \n",
       "1   38    Private   89814       HS-grad              9  Married-civ-spouse   \n",
       "2   28  Local-gov  336951    Assoc-acdm             12  Married-civ-spouse   \n",
       "3   44    Private  160323  Some-college             10  Married-civ-spouse   \n",
       "4   18          ?  103497  Some-college             10       Never-married   \n",
       "\n",
       "          occupation relationship   race     sex  capital-gain  capital-loss  \\\n",
       "0  Machine-op-inspct    Own-child  Black    Male             0             0   \n",
       "1    Farming-fishing      Husband  White    Male             0             0   \n",
       "2    Protective-serv      Husband  White    Male             0             0   \n",
       "3  Machine-op-inspct      Husband  Black    Male          7688             0   \n",
       "4                  ?    Own-child  White  Female             0             0   \n",
       "\n",
       "   hours-per-week native-country income  \n",
       "0              40  United-States  <=50K  \n",
       "1              50  United-States  <=50K  \n",
       "2              40  United-States   >50K  \n",
       "3              40  United-States   >50K  \n",
       "4              30  United-States  <=50K  "
      ]
     },
     "execution_count": 51,
     "metadata": {},
     "output_type": "execute_result"
    }
   ],
   "source": [
    "df = pd.read_csv(\"census.csv\")\n",
    "df.head()"
   ]
  },
  {
   "cell_type": "code",
   "execution_count": 52,
   "id": "77e39637-f31e-4c9b-8d5b-8abc2bbf34cf",
   "metadata": {},
   "outputs": [
    {
     "data": {
      "text/plain": [
       "age                int64\n",
       "workclass         object\n",
       "fnlwgt             int64\n",
       "education         object\n",
       "education-num      int64\n",
       "marital-status    object\n",
       "occupation        object\n",
       "relationship      object\n",
       "race              object\n",
       "sex               object\n",
       "capital-gain       int64\n",
       "capital-loss       int64\n",
       "hours-per-week     int64\n",
       "native-country    object\n",
       "income            object\n",
       "dtype: object"
      ]
     },
     "execution_count": 52,
     "metadata": {},
     "output_type": "execute_result"
    }
   ],
   "source": [
    "df.dtypes"
   ]
  },
  {
   "cell_type": "code",
   "execution_count": 53,
   "id": "390b5684-3934-470f-93fe-6e7d7367c63f",
   "metadata": {},
   "outputs": [
    {
     "data": {
      "text/plain": [
       "age               0\n",
       "workclass         0\n",
       "fnlwgt            0\n",
       "education         0\n",
       "education-num     0\n",
       "marital-status    0\n",
       "occupation        0\n",
       "relationship      0\n",
       "race              0\n",
       "sex               0\n",
       "capital-gain      0\n",
       "capital-loss      0\n",
       "hours-per-week    0\n",
       "native-country    0\n",
       "income            0\n",
       "dtype: int64"
      ]
     },
     "execution_count": 53,
     "metadata": {},
     "output_type": "execute_result"
    }
   ],
   "source": [
    "df.isna().sum()"
   ]
  },
  {
   "cell_type": "markdown",
   "id": "1bc40c46-18c0-4c34-a4aa-8e48934e0407",
   "metadata": {},
   "source": [
    "## Data Splitting"
   ]
  },
  {
   "cell_type": "code",
   "execution_count": 54,
   "id": "2756469e-296e-466e-8718-7fbba4b425f9",
   "metadata": {},
   "outputs": [],
   "source": [
    "X = df[['age','fnlwgt','education-num','capital-gain','capital-loss','hours-per-week']]\n",
    "Y = df[['age','fnlwgt','education-num','capital-gain','capital-loss','hours-per-week']]"
   ]
  },
  {
   "cell_type": "code",
   "execution_count": 55,
   "id": "863afac4-11da-4463-bfae-843cf6ca449a",
   "metadata": {},
   "outputs": [],
   "source": [
    "X_train, X_test, Y_train, Y_test = train_test_split(X, Y, test_size = 0.1 , random_state = 0)"
   ]
  },
  {
   "cell_type": "code",
   "execution_count": 56,
   "id": "6f6c2437-62cb-466b-8e50-ec8d3b30fde5",
   "metadata": {},
   "outputs": [
    {
     "data": {
      "text/plain": [
       "(4885, 6)"
      ]
     },
     "execution_count": 56,
     "metadata": {},
     "output_type": "execute_result"
    }
   ],
   "source": [
    "X_test.shape"
   ]
  },
  {
   "cell_type": "code",
   "execution_count": 57,
   "id": "7fb01731-bde8-4b9e-be8e-649339a95232",
   "metadata": {},
   "outputs": [
    {
     "data": {
      "text/plain": [
       "(4885, 6)"
      ]
     },
     "execution_count": 57,
     "metadata": {},
     "output_type": "execute_result"
    }
   ],
   "source": [
    "Y_test.shape"
   ]
  },
  {
   "cell_type": "code",
   "execution_count": 58,
   "id": "77dc8579-963b-44ab-a45c-a486fa776c4d",
   "metadata": {},
   "outputs": [
    {
     "data": {
      "text/plain": [
       "(43957, 6)"
      ]
     },
     "execution_count": 58,
     "metadata": {},
     "output_type": "execute_result"
    }
   ],
   "source": [
    "X_train.shape"
   ]
  },
  {
   "cell_type": "code",
   "execution_count": 59,
   "id": "7d4e2b97-36d3-4336-b1eb-a75164208ba7",
   "metadata": {},
   "outputs": [
    {
     "data": {
      "text/plain": [
       "(43957, 6)"
      ]
     },
     "execution_count": 59,
     "metadata": {},
     "output_type": "execute_result"
    }
   ],
   "source": [
    "Y_train.shape"
   ]
  },
  {
   "cell_type": "markdown",
   "id": "096400be-8ce4-4419-8d1a-80f6cd83c3c4",
   "metadata": {},
   "source": [
    "## Membuat Model"
   ]
  },
  {
   "cell_type": "code",
   "execution_count": 60,
   "id": "a727808a-77ba-49c1-a652-e5711163f6fa",
   "metadata": {},
   "outputs": [],
   "source": [
    "model_mnist = Sequential()"
   ]
  },
  {
   "cell_type": "markdown",
   "id": "8dbbd4c3-206c-42d1-b4fb-be84c9ed8d7e",
   "metadata": {},
   "source": [
    "### Membuat Input Layer"
   ]
  },
  {
   "cell_type": "code",
   "execution_count": 61,
   "id": "59ce055b-47df-47a4-a868-0091353de024",
   "metadata": {},
   "outputs": [],
   "source": [
    "model_mnist.add(Dense(512, activation='relu', input_dim = 6))"
   ]
  },
  {
   "cell_type": "markdown",
   "id": "45db76f1-0561-4768-aec2-0af673b3b97a",
   "metadata": {},
   "source": [
    "### Membuat hidden Layer"
   ]
  },
  {
   "cell_type": "code",
   "execution_count": 62,
   "id": "859e7651-d978-4c2f-aefa-1fefcf525d1d",
   "metadata": {},
   "outputs": [],
   "source": [
    "model_mnist.add(Dense(256, activation='relu'))\n",
    "model_mnist.add(Dense(128, activation='relu'))"
   ]
  },
  {
   "cell_type": "markdown",
   "id": "2b45fd7c-41cc-4442-b9db-a802e7f6c46f",
   "metadata": {},
   "source": [
    "### Membuat Output Layer"
   ]
  },
  {
   "cell_type": "code",
   "execution_count": 63,
   "id": "fd9b151e-6584-4c2c-b5ca-c2ee533af93b",
   "metadata": {},
   "outputs": [],
   "source": [
    "model_mnist.add(Dense(6, activation='softmax'))"
   ]
  },
  {
   "cell_type": "markdown",
   "id": "4450a183-dd0d-49b5-a34f-083afbd5e8f1",
   "metadata": {},
   "source": [
    "# Model Summary"
   ]
  },
  {
   "cell_type": "code",
   "execution_count": 64,
   "id": "96f5cd35-b7e9-484f-8ddd-ea408ee2a705",
   "metadata": {},
   "outputs": [
    {
     "name": "stdout",
     "output_type": "stream",
     "text": [
      "Model: \"sequential_2\"\n",
      "_________________________________________________________________\n",
      " Layer (type)                Output Shape              Param #   \n",
      "=================================================================\n",
      " dense_8 (Dense)             (None, 512)               3584      \n",
      "                                                                 \n",
      " dense_9 (Dense)             (None, 256)               131328    \n",
      "                                                                 \n",
      " dense_10 (Dense)            (None, 128)               32896     \n",
      "                                                                 \n",
      " dense_11 (Dense)            (None, 6)                 774       \n",
      "                                                                 \n",
      "=================================================================\n",
      "Total params: 168,582\n",
      "Trainable params: 168,582\n",
      "Non-trainable params: 0\n",
      "_________________________________________________________________\n"
     ]
    }
   ],
   "source": [
    "model_mnist.summary()"
   ]
  },
  {
   "cell_type": "markdown",
   "id": "0d0c928f-261d-431a-b92f-4444d20f7862",
   "metadata": {},
   "source": [
    "# Compile Model"
   ]
  },
  {
   "cell_type": "code",
   "execution_count": 65,
   "id": "835979ca-8d3c-4ad3-99ff-585f749e00bf",
   "metadata": {},
   "outputs": [],
   "source": [
    "model_mnist.compile(\n",
    "    optimizer = 'adam', \n",
    "    loss = 'categorical_crossentropy', \n",
    "    metrics = ['accuracy']\n",
    ")"
   ]
  },
  {
   "cell_type": "code",
   "execution_count": 66,
   "id": "a063139c-545a-4d5b-88ac-e97d345c62b8",
   "metadata": {},
   "outputs": [
    {
     "name": "stdout",
     "output_type": "stream",
     "text": [
      "Epoch 1/10\n",
      "344/344 [==============================] - 2s 5ms/step - loss: 7874359590912.0000 - accuracy: 0.9964 - val_loss: 49089303543808.0000 - val_accuracy: 0.9984\n",
      "Epoch 2/10\n",
      "344/344 [==============================] - 1s 4ms/step - loss: 302752781565952.0000 - accuracy: 0.9993 - val_loss: 811005588275200.0000 - val_accuracy: 0.9984\n",
      "Epoch 3/10\n",
      "344/344 [==============================] - 1s 4ms/step - loss: 1970510728527872.0000 - accuracy: 0.9993 - val_loss: 3705069912457216.0000 - val_accuracy: 0.9984\n",
      "Epoch 4/10\n",
      "344/344 [==============================] - 1s 4ms/step - loss: 6515145412968448.0000 - accuracy: 0.9993 - val_loss: 10657902289223680.0000 - val_accuracy: 0.9984\n",
      "Epoch 5/10\n",
      "344/344 [==============================] - 1s 4ms/step - loss: 16152445361061888.0000 - accuracy: 0.9993 - val_loss: 23471523826237440.0000 - val_accuracy: 0.9984\n",
      "Epoch 6/10\n",
      "344/344 [==============================] - 1s 4ms/step - loss: 31665204735508480.0000 - accuracy: 0.9993 - val_loss: 43684052238073856.0000 - val_accuracy: 0.9984\n",
      "Epoch 7/10\n",
      "344/344 [==============================] - 1s 4ms/step - loss: 56497022013800448.0000 - accuracy: 0.9993 - val_loss: 72964029705879552.0000 - val_accuracy: 0.9984\n",
      "Epoch 8/10\n",
      "344/344 [==============================] - 1s 4ms/step - loss: 88793887589531648.0000 - accuracy: 0.9993 - val_loss: 112752692635369472.0000 - val_accuracy: 0.9984\n",
      "Epoch 9/10\n",
      "344/344 [==============================] - 1s 4ms/step - loss: 135247454999150592.0000 - accuracy: 0.9993 - val_loss: 164913550026866688.0000 - val_accuracy: 0.9984\n",
      "Epoch 10/10\n",
      "344/344 [==============================] - 1s 4ms/step - loss: 193402342979141632.0000 - accuracy: 0.9993 - val_loss: 231070271316951040.0000 - val_accuracy: 0.9984\n"
     ]
    }
   ],
   "source": [
    "hasil = model_mnist.fit(\n",
    "    X_train, \n",
    "    Y_train, \n",
    "    epochs = 10, \n",
    "    batch_size = 128, \n",
    "    validation_data = (X_test, Y_test)\n",
    ")"
   ]
  },
  {
   "cell_type": "code",
   "execution_count": 67,
   "id": "ec773848-6395-4abb-951d-b86ea98e62fb",
   "metadata": {},
   "outputs": [
    {
     "data": {
      "text/plain": [
       "dict_keys(['loss', 'accuracy', 'val_loss', 'val_accuracy'])"
      ]
     },
     "execution_count": 67,
     "metadata": {},
     "output_type": "execute_result"
    }
   ],
   "source": [
    "hasil.history.keys()"
   ]
  },
  {
   "cell_type": "code",
   "execution_count": 68,
   "id": "d515edcd-aa82-4e26-942f-92d1b7166a0b",
   "metadata": {},
   "outputs": [
    {
     "data": {
      "image/png": "[encoded data removed]",
      "text/plain": [
       "<Figure size 1600x900 with 2 Axes>"
      ]
     },
     "metadata": {},
     "output_type": "display_data"
    }
   ],
   "source": [
    "plt.figure(figsize=(16,9))\n",
    "\n",
    "epochs_run = [i+1 for i in range(10)]\n",
    "\n",
    "# Akurasi\n",
    "plt.subplot(1,2,1)\n",
    "plt.plot(epochs_run, hasil.history['accuracy'], label='Training')\n",
    "plt.plot(epochs_run, hasil.history['val_accuracy'], label='Testing')\n",
    "plt.title(\"Akurasi\")\n",
    "plt.legend()\n",
    "\n",
    "# Loss\n",
    "plt.subplot(1,2,2)\n",
    "plt.plot(epochs_run, hasil.history['loss'], label='Training')\n",
    "plt.plot(epochs_run, hasil.history['val_loss'], label='Testing')\n",
    "plt.title(\"Loss\")\n",
    "plt.legend()\n",
    "\n",
    "plt.show()"
   ]
  },
  {
   "cell_type": "markdown",
   "id": "060acbdb-7864-4507-95ab-73d79a4c6e69",
   "metadata": {},
   "source": [
    "## Evaluasi Model"
   ]
  },
  {
   "cell_type": "code",
   "execution_count": 69,
   "id": "c84284b0-0339-4810-9222-da6df3ab4c27",
   "metadata": {},
   "outputs": [
    {
     "name": "stdout",
     "output_type": "stream",
     "text": [
      "153/153 [==============================] - 0s 2ms/step - loss: 231070357216296960.0000 - accuracy: 0.9984\n",
      "Loss : 2.3107035721629696e+17\n",
      "Training : 0.9983623623847961\n"
     ]
    }
   ],
   "source": [
    "score = model_mnist.evaluate(X_test, Y_test)\n",
    "print(\"Loss :\",score[0])\n",
    "print(\"Training :\",score[1])"
   ]
  },
  {
   "cell_type": "code",
   "execution_count": 70,
   "id": "1392de60-044c-46cb-a7bb-fbac4ad7c997",
   "metadata": {},
   "outputs": [
    {
     "name": "stdout",
     "output_type": "stream",
     "text": [
      "Akurasi : 99.92947578430176 %\n",
      "Akurasi validasi : 99.83623623847961 %\n"
     ]
    }
   ],
   "source": [
    "print(\"Akurasi :\", hasil.history[\"accuracy\"][-1] * 100, \"%\")\n",
    "print(\"Akurasi validasi :\", hasil.history[\"val_accuracy\"][-1] * 100, \"%\")"
   ]
  },
  {
   "cell_type": "code",
   "execution_count": null,
   "id": "ee0c85fd-e3c2-415f-b444-2483aab1bf30",
   "metadata": {},
   "outputs": [],
   "source": []
  }
 ],
 "metadata": {
  "kernelspec": {
   "display_name": "Python 3 (ipykernel)",
   "language": "python",
   "name": "python3"
  },
  "language_info": {
   "codemirror_mode": {
    "name": "ipython",
    "version": 3
   },
   "file_extension": ".py",
   "mimetype": "text/x-python",
   "name": "python",
   "nbconvert_exporter": "python",
   "pygments_lexer": "ipython3",
   "version": "3.10.4"
  }
 },
 "nbformat": 4,
 "nbformat_minor": 5
}
